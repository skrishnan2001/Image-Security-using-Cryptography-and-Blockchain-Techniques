{
  "cells": [
    {
      "cell_type": "markdown",
      "metadata": {
        "id": "ZP4ipqFju2sO"
      },
      "source": [
        "## Importing necessary libraries"
      ]
    },
    {
      "cell_type": "code",
      "execution_count": null,
      "metadata": {},
      "outputs": [],
      "source": [
        "! pip install python-dotenv\n",
        "! pip install web3"
      ]
    },
    {
      "cell_type": "code",
      "execution_count": 3,
      "metadata": {
        "id": "sFZUUyEEqM9a"
      },
      "outputs": [],
      "source": [
        "#IMPORT STATEMENTS\n",
        "\n",
        "from web3 import Web3, HTTPProvider\n",
        "import json\n",
        "import os\n",
        "from dotenv import load_dotenv"
      ]
    },
    {
      "attachments": {},
      "cell_type": "markdown",
      "metadata": {},
      "source": [
        "## Defining the constants to be added to .env"
      ]
    },
    {
      "cell_type": "code",
      "execution_count": 4,
      "metadata": {
        "id": "5j4W4QUCqQcl"
      },
      "outputs": [],
      "source": [
        "#CONSTANTS DEFINITION AND ABI\n",
        "\n",
        "with open(\"HashStorage.json\") as f:\n",
        "    info_json = json.load(f)\n",
        "abi = info_json[\"abi\"]\n",
        "\n",
        "load_dotenv()\n",
        "\n",
        "#contract_address = \"0x384f2B1a7cdE7d8E2de558497fE05eb0595dC27B\" -> Testing Purposes\n",
        "contract_address = os.getenv('CONTRACT_ADDRESS')\n",
        "infura_project_id = os.getenv('INFURA_PROJECT_ID')\n",
        "infura_endpoint = os.getenv('INFURA_ENDPOINT')\n",
        "acct_private_key = os.getenv('ACCT_PRIVATE_KEY')"
      ]
    },
    {
      "cell_type": "markdown",
      "metadata": {
        "id": "lotG37P_vIst"
      },
      "source": [
        "## Defining getMerkleRootHash and setMerkleRootHash APIS"
      ]
    },
    {
      "cell_type": "code",
      "execution_count": 5,
      "metadata": {
        "id": "WJFSDsoJqKA1"
      },
      "outputs": [],
      "source": [
        "#API DEFINITION\n",
        "\n",
        "def web3_init(infura_endpoint_base, infura_project_id, abi,contract_address):\n",
        "  \n",
        "  w3 = Web3(HTTPProvider(infura_endpoint_base + infura_project_id))\n",
        "  contract = w3.eth.contract(address=contract_address, abi=abi)\n",
        "  return w3, contract\n",
        "\n",
        "\n",
        "\n",
        "def getMerkleRootHash(contract,user_id,image_id):\n",
        "  return contract.functions.get(user_id,image_id).call()\n",
        "\n",
        "\n",
        "  \n",
        "def setMerkleRootHash(web3, contract, acct_private_key, user_id,hash_value):\n",
        "\n",
        "  account = web3.eth.account.privateKeyToAccount(acct_private_key)\n",
        "\n",
        "  # Create a transaction object\n",
        "  nonce = web3.eth.getTransactionCount(account.address)\n",
        "  gas_price = web3.eth.gasPrice\n",
        "  gas_limit = 500000\n",
        "  tx = contract.functions.set(user_id,hash_value).buildTransaction({\n",
        "      \"from\": account.address,\n",
        "      \"nonce\": nonce,\n",
        "      \"gasPrice\": gas_price,\n",
        "      \"gas\": gas_limit\n",
        "  })\n",
        "\n",
        "  # Sign the transaction with the account's private key\n",
        "  signed_tx = account.signTransaction(tx)\n",
        "\n",
        "  # Send the signed transaction to the network\n",
        "  tx_hash = web3.eth.sendRawTransaction(signed_tx.rawTransaction)\n",
        "\n",
        "  receipt = web3.eth.waitForTransactionReceipt(tx_hash)\n",
        "  print(receipt)\n",
        "    \n",
        "\n"
      ]
    },
    {
      "cell_type": "markdown",
      "metadata": {
        "id": "FXhsSSsjvHNl"
      },
      "source": [
        "## Driver code"
      ]
    },
    {
      "cell_type": "code",
      "execution_count": 7,
      "metadata": {
        "colab": {
          "base_uri": "https://localhost:8080/"
        },
        "id": "ShPjJw1CvTYz",
        "outputId": "58e98591-f3b7-478e-c66b-ecce4522e496"
      },
      "outputs": [
        {
          "name": "stdout",
          "output_type": "stream",
          "text": [
            "Hash value for image ID   2  is  3608bca1e44ea6c4d268eb6db02260269892c0b42b86bbf1e77a6fa16c3c9282\n"
          ]
        }
      ],
      "source": [
        "if __name__ == \"__main__\":\n",
        "\n",
        "  web3, contract = web3_init(infura_endpoint, infura_project_id,abi,contract_address)\n",
        "\n",
        "  #Getting value from contract\n",
        "\n",
        "  sample_user = \"pranayv01\"\n",
        "  sample_hash = \"a286855f63aa50765faa5a60951b1229a33188ba40a306f9e52f7fca1b60e74c\"\n",
        "  \n",
        "\n",
        "  #Updating the value \n",
        "\n",
        "  #setMerkleRootHash(web3, contract, acct_private_key, sample_user,sample_hash)\n",
        "\n",
        "  #Retrieving the updated value\n",
        "\n",
        "  idx = 2\n",
        "  hash_value = getMerkleRootHash(contract,sample_user,idx)\n",
        "\n",
        "  print(\"Hash value for image ID  \", idx, \" is \", hash_value) \n"
      ]
    },
    {
      "cell_type": "code",
      "execution_count": null,
      "metadata": {
        "colab": {
          "base_uri": "https://localhost:8080/"
        },
        "id": "ARMH7POmE9F3",
        "outputId": "17f13de0-ef66-4acd-bb1b-2ad186fe30dd"
      },
      "outputs": [],
      "source": [
        "print(hash_value)"
      ]
    }
  ],
  "metadata": {
    "colab": {
      "provenance": []
    },
    "kernelspec": {
      "display_name": "base",
      "language": "python",
      "name": "python3"
    },
    "language_info": {
      "codemirror_mode": {
        "name": "ipython",
        "version": 3
      },
      "file_extension": ".py",
      "mimetype": "text/x-python",
      "name": "python",
      "nbconvert_exporter": "python",
      "pygments_lexer": "ipython3",
      "version": "3.8.8"
    },
    "vscode": {
      "interpreter": {
        "hash": "ab71a59c4af0f0c14bf9ea35a62bf11f2b314ca6037e7f3ada4b255af1dcda3a"
      }
    }
  },
  "nbformat": 4,
  "nbformat_minor": 0
}
